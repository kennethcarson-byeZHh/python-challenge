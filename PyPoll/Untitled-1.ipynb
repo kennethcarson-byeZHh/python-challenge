{
 "cells": [
  {
   "cell_type": "code",
   "execution_count": 16,
   "metadata": {},
   "outputs": [],
   "source": [
    "#import tools and generate dataframe\n",
    "\n",
    "import pandas as pd\n",
    "\n",
    "from pathlib import Path\n",
    "\n",
    "Poll_data = Path(\"resources/election_data.csv\")\n",
    "\n",
    "Poll_data_df = pd.read_csv(Poll_data, encoding = \"ISO-8859-1\")\n",
    "\n"
   ]
  },
  {
   "cell_type": "code",
   "execution_count": 17,
   "metadata": {},
   "outputs": [
    {
     "name": "stdout",
     "output_type": "stream",
     "text": [
      "Total Votes:  369711\n"
     ]
    }
   ],
   "source": [
    "#Count total number of votes\n",
    "\n",
    "vote_count = len(Poll_data_df[\"Ballot ID\"])\n",
    "\n",
    "print(\"Total Votes:  \" + str(vote_count) )\n",
    "\n"
   ]
  },
  {
   "cell_type": "code",
   "execution_count": 18,
   "metadata": {},
   "outputs": [
    {
     "name": "stdout",
     "output_type": "stream",
     "text": [
      "['Charles Casper Stockham', 'Diana DeGette', 'Raymon Anthony Doane']\n"
     ]
    }
   ],
   "source": [
    "mylist = Poll_data_df[\"Candidate\"]\n",
    "\n",
    "cand_list = []\n",
    "\n",
    "for item in mylist:\n",
    "        if item not in cand_list:\n",
    "                cand_list.append(item)\n",
    "\n",
    "print(cand_list)"
   ]
  },
  {
   "cell_type": "code",
   "execution_count": 33,
   "metadata": {},
   "outputs": [
    {
     "name": "stdout",
     "output_type": "stream",
     "text": [
      "Charles Casper Stockham:  23.049%   (85213)\n",
      "Diana DeGette:  73.812%   (272892)\n",
      "Raymon Anthony Doane:  3.139%   (11606)\n"
     ]
    }
   ],
   "source": [
    "#Count and percentage CCS\n",
    "Indiv_count = Poll_data_df[\"Candidate\"].value_counts()[\"Charles Casper Stockham\"]\n",
    "Percen = Indiv_count/vote_count * 100\n",
    "Percent = Percen.round(3)\n",
    "print(\"Charles Casper Stockham:  \" + str(Percent) + \"%   (\" + str(Indiv_count) + \")\")\n",
    "\n",
    "#Count and percentage DG\n",
    "Indiv_count_DG = Poll_data_df[\"Candidate\"].value_counts()[\"Diana DeGette\"]\n",
    "Percen_DG = Indiv_count_DG/vote_count * 100\n",
    "Percent_DG = Percen_DG.round(3)\n",
    "print(\"Diana DeGette:  \" + str(Percent_DG) + \"%   (\" + str(Indiv_count_DG) + \")\")\n",
    "\n",
    "#Count and percentage RAD\n",
    "Indiv_count_RAD = Poll_data_df[\"Candidate\"].value_counts()[\"Raymon Anthony Doane\"]\n",
    "Percen_RAD = Indiv_count_RAD/vote_count * 100\n",
    "Percent_RAD = Percen_RAD.round(3)\n",
    "print(\"Raymon Anthony Doane:  \" + str(Percent_RAD) + \"%   (\" + str(Indiv_count_RAD) + \")\")"
   ]
  },
  {
   "cell_type": "code",
   "execution_count": 34,
   "metadata": {},
   "outputs": [
    {
     "name": "stdout",
     "output_type": "stream",
     "text": [
      "Election Results\n",
      "----------------------------\n",
      "Total Votes:  369711\n",
      "----------------------------\n",
      "Charles Casper Stockham:  23.049%   (85213)\n",
      "Diana DeGette:  73.812%   (272892)\n",
      "Raymon Anthony Doane:  3.139%   (11606)\n",
      "----------------------------\n",
      "Winner:  Diana DeGette\n",
      "----------------------------\n"
     ]
    }
   ],
   "source": [
    "#Final printout\n",
    "print(\"Election Results\")\n",
    "print(\"----------------------------\")\n",
    "print(\"Total Votes:  \" + str(vote_count) )\n",
    "print(\"----------------------------\")\n",
    "print(\"Charles Casper Stockham:  \" + str(Percent) + \"%   (\" + str(Indiv_count) + \")\")\n",
    "print(\"Diana DeGette:  \" + str(Percent_DG) + \"%   (\" + str(Indiv_count_DG) + \")\")\n",
    "print(\"Raymon Anthony Doane:  \" + str(Percent_RAD) + \"%   (\" + str(Indiv_count_RAD) + \")\")\n",
    "print(\"----------------------------\")\n",
    "print(\"Winner:  Diana DeGette\")\n",
    "print(\"----------------------------\")"
   ]
  }
 ],
 "metadata": {
  "kernelspec": {
   "display_name": "base",
   "language": "python",
   "name": "python3"
  },
  "language_info": {
   "codemirror_mode": {
    "name": "ipython",
    "version": 3
   },
   "file_extension": ".py",
   "mimetype": "text/x-python",
   "name": "python",
   "nbconvert_exporter": "python",
   "pygments_lexer": "ipython3",
   "version": "3.11.5"
  }
 },
 "nbformat": 4,
 "nbformat_minor": 2
}
