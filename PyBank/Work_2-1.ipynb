{
 "cells": [
  {
   "cell_type": "code",
   "execution_count": 66,
   "metadata": {},
   "outputs": [
    {
     "data": {
      "text/html": [
       "<div>\n",
       "<style scoped>\n",
       "    .dataframe tbody tr th:only-of-type {\n",
       "        vertical-align: middle;\n",
       "    }\n",
       "\n",
       "    .dataframe tbody tr th {\n",
       "        vertical-align: top;\n",
       "    }\n",
       "\n",
       "    .dataframe thead th {\n",
       "        text-align: right;\n",
       "    }\n",
       "</style>\n",
       "<table border=\"1\" class=\"dataframe\">\n",
       "  <thead>\n",
       "    <tr style=\"text-align: right;\">\n",
       "      <th></th>\n",
       "      <th>Date</th>\n",
       "      <th>Profit/Losses</th>\n",
       "    </tr>\n",
       "  </thead>\n",
       "  <tbody>\n",
       "    <tr>\n",
       "      <th>0</th>\n",
       "      <td>Jan-10</td>\n",
       "      <td>1088983</td>\n",
       "    </tr>\n",
       "    <tr>\n",
       "      <th>1</th>\n",
       "      <td>Feb-10</td>\n",
       "      <td>-354534</td>\n",
       "    </tr>\n",
       "    <tr>\n",
       "      <th>2</th>\n",
       "      <td>Mar-10</td>\n",
       "      <td>276622</td>\n",
       "    </tr>\n",
       "    <tr>\n",
       "      <th>3</th>\n",
       "      <td>Apr-10</td>\n",
       "      <td>-728133</td>\n",
       "    </tr>\n",
       "    <tr>\n",
       "      <th>4</th>\n",
       "      <td>May-10</td>\n",
       "      <td>852993</td>\n",
       "    </tr>\n",
       "  </tbody>\n",
       "</table>\n",
       "</div>"
      ],
      "text/plain": [
       "     Date  Profit/Losses\n",
       "0  Jan-10        1088983\n",
       "1  Feb-10        -354534\n",
       "2  Mar-10         276622\n",
       "3  Apr-10        -728133\n",
       "4  May-10         852993"
      ]
     },
     "execution_count": 66,
     "metadata": {},
     "output_type": "execute_result"
    }
   ],
   "source": [
    "#import tools and generate datafram\n",
    "\n",
    "import pandas as pd\n",
    "\n",
    "from pathlib import Path\n",
    "\n",
    "budget = Path(\"resources/budget_data.csv\")\n",
    "\n",
    "budget_df = pd.read_csv(budget)\n",
    "\n",
    "#Test output of dataframe\n",
    "budget_df.head()\n"
   ]
  },
  {
   "cell_type": "code",
   "execution_count": 67,
   "metadata": {},
   "outputs": [
    {
     "name": "stdout",
     "output_type": "stream",
     "text": [
      "Total Months: 86\n"
     ]
    }
   ],
   "source": [
    "#Determine total number of months in dataframe\n",
    "\n",
    "Date_count = len(budget_df[\"Date\"].unique())\n",
    "print(\"Total Months: \" + str(Date_count))"
   ]
  },
  {
   "cell_type": "code",
   "execution_count": 68,
   "metadata": {},
   "outputs": [
    {
     "name": "stdout",
     "output_type": "stream",
     "text": [
      "Total: 22564198\n"
     ]
    }
   ],
   "source": [
    "#Net total profit/loss over time period\n",
    "Total = budget_df[\"Profit/Losses\"].sum()\n",
    "print(\"Total: \" + str(Total))"
   ]
  },
  {
   "cell_type": "code",
   "execution_count": 69,
   "metadata": {},
   "outputs": [
    {
     "name": "stdout",
     "output_type": "stream",
     "text": [
      "      Date  Profit/Losses  Difference\n",
      "0   Jan-10        1088983         NaN\n",
      "1   Feb-10        -354534  -1443517.0\n",
      "2   Mar-10         276622    631156.0\n",
      "3   Apr-10        -728133  -1004755.0\n",
      "4   May-10         852993   1581126.0\n",
      "..     ...            ...         ...\n",
      "81  Oct-16        -729004  -1627245.0\n",
      "82  Nov-16        -112209    616795.0\n",
      "83  Dec-16         516313    628522.0\n",
      "84  Jan-17         607208     90895.0\n",
      "85  Feb-17         382539   -224669.0\n",
      "\n",
      "[86 rows x 3 columns]\n"
     ]
    }
   ],
   "source": [
    "#Insert a column with difference\n",
    "Differ = budget_df[\"Profit/Losses\"].diff()\n",
    "budget_df.insert(2,\"Difference\", Differ)\n",
    "\n",
    "#visualize column with Differencejhg\n",
    "print(budget_df)"
   ]
  },
  {
   "cell_type": "code",
   "execution_count": 74,
   "metadata": {},
   "outputs": [
    {
     "name": "stdout",
     "output_type": "stream",
     "text": [
      "Average Change: -8311.11\n"
     ]
    }
   ],
   "source": [
    "#Average Change \n",
    "Aver = Differ.mean()\n",
    "\n",
    "#Round to two digits\n",
    "Averag = Aver.round(2)\n",
    "print(\"Average Change: \" + str(Averag))\n"
   ]
  },
  {
   "cell_type": "code",
   "execution_count": null,
   "metadata": {},
   "outputs": [],
   "source": []
  },
  {
   "cell_type": "code",
   "execution_count": 57,
   "metadata": {},
   "outputs": [
    {
     "name": "stdout",
     "output_type": "stream",
     "text": [
      "1862002\n",
      "-1825558\n"
     ]
    }
   ],
   "source": [
    "#Find min and max values of difference\n",
    "\n",
    "Differ = budget_df[\"Profit/Losses\"].diff()\n",
    "\n",
    "Max_Differ = int(Differ.max())\n",
    "Min_Differ = int(Differ.min())\n",
    "print(Max_Differ)\n",
    "print(Min_Differ)\n"
   ]
  },
  {
   "cell_type": "code",
   "execution_count": 58,
   "metadata": {},
   "outputs": [
    {
     "name": "stdout",
     "output_type": "stream",
     "text": [
      "Greatest Increase in Profits: 79    Aug-16\n",
      "Name: Date, dtype: object ($1862002)\n"
     ]
    }
   ],
   "source": [
    "#Identify max Date and value\n",
    "Max_result = budget_df.loc[budget_df[\"Difference\"] == Max_Differ, \"Date\"]\n",
    "print(\"Greatest Increase in Profits: \" + str(Max_result) + \" ($\" + str(Max_Differ) + \")\")\n",
    "      "
   ]
  },
  {
   "cell_type": "code",
   "execution_count": 59,
   "metadata": {},
   "outputs": [
    {
     "name": "stdout",
     "output_type": "stream",
     "text": [
      "Greatest Decrease in Profits: 49    Feb-14\n",
      "Name: Date, dtype: object ($-1825558)\n"
     ]
    }
   ],
   "source": [
    "#Identify Minimum date and value\n",
    "Min_result = budget_df.loc[budget_df[\"Difference\"] == Min_Differ, \"Date\"]\n",
    "print(\"Greatest Decrease in Profits: \" + str(Min_result) +  \" ($\" + str(Min_Differ) + \")\")"
   ]
  },
  {
   "cell_type": "code",
   "execution_count": 88,
   "metadata": {},
   "outputs": [
    {
     "ename": "TypeError",
     "evalue": "write() argument must be str, not type",
     "output_type": "error",
     "traceback": [
      "\u001b[0;31m---------------------------------------------------------------------------\u001b[0m",
      "\u001b[0;31mTypeError\u001b[0m                                 Traceback (most recent call last)",
      "Cell \u001b[0;32mIn[88], line 2\u001b[0m\n\u001b[1;32m      1\u001b[0m Output \u001b[38;5;241m=\u001b[39m \u001b[38;5;28mopen\u001b[39m(\u001b[38;5;124m\"\u001b[39m\u001b[38;5;124moutput.txt\u001b[39m\u001b[38;5;124m\"\u001b[39m, \u001b[38;5;124m'\u001b[39m\u001b[38;5;124mw\u001b[39m\u001b[38;5;124m'\u001b[39m)\n\u001b[0;32m----> 2\u001b[0m Output\u001b[38;5;241m.\u001b[39mwrite(\u001b[38;5;28mstr\u001b[39m)\n\u001b[1;32m      3\u001b[0m \u001b[38;5;28mprint\u001b[39m(\u001b[38;5;124m\"\u001b[39m\u001b[38;5;124mFinancial Analysis\u001b[39m\u001b[38;5;124m\"\u001b[39m)\n\u001b[1;32m      4\u001b[0m \u001b[38;5;28mprint\u001b[39m(\u001b[38;5;124m\"\u001b[39m\u001b[38;5;124m------------------------------\u001b[39m\u001b[38;5;124m\"\u001b[39m)\n",
      "\u001b[0;31mTypeError\u001b[0m: write() argument must be str, not type"
     ]
    }
   ],
   "source": [
    "Output = open(\"output.txt\", 'w')\n",
    "Output.write(str)\n",
    "print(\"Financial Analysis\")\n",
    "print(\"------------------------------\")\n",
    "print(\"Total Months: \" + str(Date_count))\n",
    "print(\"Total: \" + str(Total))\n",
    "print(\"Average Change: $\" + str(Averag))\n",
    "print(\"Greatest Increase in Profits: \" + str(Max_result) + \" ($\" + str(Max_Differ) + \")\")\n",
    "print(\"Greatest Decrease in Profits: \" + str(Min_result) +  \" ($\" + str(Min_Differ) + \")\")\n",
    "#Close file\n",
    "Output.close()"
   ]
  }
 ],
 "metadata": {
  "kernelspec": {
   "display_name": "base",
   "language": "python",
   "name": "python3"
  },
  "language_info": {
   "codemirror_mode": {
    "name": "ipython",
    "version": 3
   },
   "file_extension": ".py",
   "mimetype": "text/x-python",
   "name": "python",
   "nbconvert_exporter": "python",
   "pygments_lexer": "ipython3",
   "version": "3.11.5"
  }
 },
 "nbformat": 4,
 "nbformat_minor": 2
}
